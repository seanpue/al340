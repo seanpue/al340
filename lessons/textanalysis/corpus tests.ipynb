{
 "metadata": {
  "name": "",
  "signature": "sha256:a64f5137333a9e020e2e68d0a2f0a7de215215cae84381c48ac1f4ac30c2250c"
 },
 "nbformat": 3,
 "nbformat_minor": 0,
 "worksheets": [
  {
   "cells": [
    {
     "cell_type": "code",
     "collapsed": false,
     "input": [
      "import nltk\n",
      "\n",
      "%matplotlib inline"
     ],
     "language": "python",
     "metadata": {},
     "outputs": [],
     "prompt_number": 1
    },
    {
     "cell_type": "code",
     "collapsed": false,
     "input": [
      "import os\n",
      "\n",
      "from nltk.corpus.reader.plaintext import PlaintextCorpusReader\n",
      "\n",
      "corpusdir = 'data/texts/' # Directory of corpus.\n",
      "corpus0 = PlaintextCorpusReader(corpusdir, '.*')\n",
      "corpus  = nltk.Text(corpus0.words())"
     ],
     "language": "python",
     "metadata": {},
     "outputs": [],
     "prompt_number": 2
    },
    {
     "cell_type": "code",
     "collapsed": false,
     "input": [
      "corpus.concordance('girls')"
     ],
     "language": "python",
     "metadata": {},
     "outputs": [
      {
       "output_type": "stream",
       "stream": "stdout",
       "text": [
        "Displaying 25 of 25 matches:\n",
        "hree nees for president , upperclass girls , who have been in residence in this\n",
        "lections held . b . The names of the girls nominated shall be posted at least t\n",
        "be elected each term . BY - LAWS 1 . Girls are required to respect rulings rega\n",
        " . rules become effective as soon as girls enter college houses . At the beginn\n",
        "t - of - town permit for upper class girls . d . Absences from a college reside\n",
        "blication staffs . Offices , held by girls , which come under Student Council r\n",
        "- 15 nees for president , upperclass girls , who have been in residence in this\n",
        "tions held . 16 b . The names of the girls nominated shall be posted at least t\n",
        "d by Judiciary Board . BY - LAWS I . Girls are required to respect rulings rega\n",
        " . rules become effective as soon as girls enter college houses . At the beginn\n",
        " over - night absences . Upper class girls need special out - of - town permits\n",
        "blication staffs . Offices , held by girls , which come under Student Council r\n",
        " we can be truly willing to have all girls adopt and imitate our ways . 3 ' Wel\n",
        ", lockers , and even an iron so that girls who live in Lansing or East Lansing \n",
        " Lansing may freshen up . The town - girls have a regular organization and A . \n",
        "the beauty of seeing a procession of girls winding across the campus walks , ca\n",
        "ret . You know what ? Almost all the girls in the dorm went to the mixer tonigh\n",
        "t around to all the houses , and the girls were all so nice to us . 14 Sept . 3\n",
        " Marge and I went with a bU ! lch of girls to the barbecue . It was such fun , \n",
        "We were all so excited , because the girls serenaded her last night . June ll -\n",
        " nominees for president , upperclass girls , who have been in residence in this\n",
        "lections held . b . The names of the girls nominated shall be posted at least t\n",
        " shall be elected each term . 38 I . Girls are required to respect rulings ing \n",
        "ng registered with the hostess . 7 . Girls accepting employment for special eve\n",
        "ome for any night absences . All new girls need special out - of - lown permits\n"
       ]
      }
     ],
     "prompt_number": 3
    },
    {
     "cell_type": "code",
     "collapsed": false,
     "input": [
      "corpus.concordance(\"'\", lines=all)"
     ],
     "language": "python",
     "metadata": {},
     "outputs": [
      {
       "output_type": "stream",
       "stream": "stdout",
       "text": [
        "Displaying 152 of 152 matches:\n",
        " of the Class oj 1941 this handbook is ' dedicated by the Associated Women Stud\n",
        "n Hellenic . Chairman of Spartan Women ' s League . President of Y . W . C . A \n",
        "ers to your perplexing questions . Won ' t you come in early and see us ? Some \n",
        "be in charge of card catalog and women ' s ity calendar . d . The Secretary sha\n",
        "n Hellenic , Chairman of Spartan Women ' s League , President of Y . W . C . A \n",
        "onomics Club , Chairman of Freshman Le ' cture , and President of Tower Guard .\n",
        "mbers of the Associated Women Students ' Council shall be made by the preceding\n",
        "d shall read their reports of the year ' s work . The ports of the other office\n",
        "r others wishing cooperation for women ' s zations . Section 2 . The duties of \n",
        "en hours : 1 . Mid - week hours : 11 o ' clock sion until Friday of Freshman We\n",
        "ive no unsatisfactory reports have 9 o ' clock permission . Nine o ' clock perm\n",
        "s have 9 o ' clock permission . Nine o ' clock permission prevails Winter and S\n",
        " nesday , and Thursday nights . 17 2 . ' Sunday : 9 : 30 , all terms . 3 . Frid\n",
        "all not go to fraternity houses or men ' s club rooms where an proved chaperone\n",
        " meet with the approval of the student ' s family and that hours are within A .\n",
        "nt of A . W . S . or the Dean of Women ' s office . Freshmen must have in addit\n",
        " Hellenic . President of Spartan Women ' s League . Presidents of Social Sorori\n",
        " dormitory the first aide on the first ' floor takes command . 2 . The aides on\n",
        "oor takes command . 2 . The aides on e ' ach floor are to be responsible for th\n",
        " of the Administration building . Houl ' s are from 8 to 12 a . m . and from 1 \n",
        "anhellenic . Chairman of Spartan Women ' s League . President of Y . W . C . A \n",
        "o knows their meaning and this college ' s history before you violate them . We\n",
        "zation - it is your organization .. We ' re going to need your active interest \n",
        "place our hopes : that your four years ' stay may be profitable to you and to y\n",
        "be in charge of card catalog and women ' s ity calendar . d . The Secretary sha\n",
        "anhellenic , Chairman of Spartan Women ' s League , President of Y . W . C . A \n",
        "mbers of the Associated Women Students ' Council shall be made by the preceding\n",
        "d shall read their reports of the year ' s work . The reports of the other offi\n",
        "r others wishing cooperation for women ' s organizations . 14 Section 2 . The d\n",
        " CONSTITUTION 1 . Organization . Women ' s houses shall have a House Council an\n",
        "bers of each dormitory . The Judiciary ' Board members shall take charge of the\n",
        "en hours : 1 . Mid - week hours : 11 o ' clock sion until Friday of Freshman We\n",
        "econd time to one student . 4 . Guests ' visiting hours in dormitories and hous\n",
        "all not go to fraternity houses or men ' s rooms where an approved chaperon is \n",
        " meet with the approval of the student ' s family and that hours are within A .\n",
        "nhellenic . President of Spartan Women ' s League . Presidents of Social Sorori\n",
        " COllEGE East lansing . Michigan , 4 . ' W . s . HANDBOOK FOR WOMEN STUDENTS ..\n",
        "across the hall from the Dean of Women ' s office . Hours are from 8 to 12 a . \n",
        "l girls adopt and imitate our ways . 3 ' Welcome \u00b7 I ; wm \u00b7 \u0141 . . < lite 01 ' k\n",
        "3 ' Welcome \u00b7 I ; wm \u00b7 \u0141 . . < lite 01 ' k / 0IHeH . MISS ELISABETH CONRAD \" Gr\n",
        "f at any time we of this Dean of Women ' s Office can be of assistance to you i\n",
        "t on Michigan State campus . While you ' re here , we hope these will be the be\n",
        "ll be the best years of your life . It ' s up to you that they are . We ' ll he\n",
        " . It ' s up to you that they are . We ' ll help you . Upon registration , ever\n",
        "verning body of Michigan State College ' s undergraduate women . All campus org\n",
        "ll want to know you . Help us , and we ' ll do everything we can to help you . \n",
        "nic Council President of Spartan Women ' s League President of Y . W . C . A . \n",
        " . A . President of Mortar Board Women ' s Editor of Michigan State News Senior\n",
        " determine final ratings . These women ' s offices have been estimated cording \n",
        " of Vocational Guidance 5 . Panhelleni ' c chairman 6 . Chairman of Freshman co\n",
        "ecial petition ) 10 $ 1VWeIf Uf , IJ . ' W . $. Each fall A . W . S . sponsors \n",
        " . has just completed this year a girl ' s room , up on the fourth floor of the\n",
        "fice , located . in the Administration ' building , just across from the Dean o\n",
        "g , just across from the Dean of Women ' s office . Here we have our filing cab\n",
        " . W . S . is busy helping other women ' s organizations carryon their activiti\n",
        "ht . 12 \u0141 \u0141 Sept . 23 - Diary dear , I ' m all ajimbo over State . My roommate \n",
        " m all ajimbo over State . My roommate ' s awfully nice and she ' s got the cut\n",
        ". My roommate ' s awfully nice and she ' s got the cutest accent ' cause she ' \n",
        "nice and she ' s got the cutest accent ' cause she ' s from down south . And I \n",
        " ' s got the cutest accent ' cause she ' s from down south . And I finally met \n",
        "ly met my Counselor --- the junior who ' s been writing to me telling me the wh\n",
        "g a coed . Sept . 27 - Shh , diary . I ' ve got a secret . You know what ? Almo\n",
        "mest sophomore walked me home , and he ' s taking me to the show Saturday night\n",
        "and walked and walked today . If I don ' t know this campus now . What a yawn .\n",
        "now this campus now . What a yawn . It ' s wonderful to have such a darling roo\n",
        "and such a swell roommate ! Anyway , I ' ve been all fied n ' everything , so n\n",
        "mate ! Anyway , I ' ve been all fied n ' everything , so now to bed . Sept . 29\n",
        "o now to bed . Sept . 29 - Jean , that ' s my ' roomy ', diary , and I are so g\n",
        "o bed . Sept . 29 - Jean , that ' s my ' roomy ', diary , and I are so glad we \n",
        "nice to us . 14 Sept . 30 -- The day I ' ve been dreaming about has finally com\n",
        "t ever . A freshman pot ( Diary , that ' s a green hat ) missed the bonfire , s\n",
        "rganization booths were so clever ! It ' s so hard to decide what to join . 15 \n",
        " so hard to decide what to join . 15 I ' m going to join Spartan Women ' s Leag\n",
        ". 15 I ' m going to join Spartan Women ' s League and Women ' s Athletic Associ\n",
        "oin Spartan Women ' s League and Women ' s Athletic Association and maybe I ' l\n",
        "n ' s Athletic Association and maybe I ' ll take in some others next term . The\n",
        "ider and dougHnuts here are the best I ' ve ever tasted , they must be a specia\n",
        " Feb . 14 - 0h , wonder of wonders ! I ' m going to the J - Hop next weekend ! \n",
        " J - Hop next weekend ! We have four o ' clock permission , and I ' ve heard ru\n",
        "have four o ' clock permission , and I ' ve heard rumors that the favors and de\n",
        " bags . This will be the first year it ' s been held in the new auditorium . Fe\n",
        " to his fraternity dinner - dance . He ' s a smooth dancer and seems like lots \n",
        "ertainly crossed --- tightly , too . I ' m so glad that Jean ' s S . P ., a 16 \n",
        "ightly , too . I ' m so glad that Jean ' s S . P ., a 16 senior , has asked her\n",
        " so handsome in their uniforms , but I ' ll bet my striped pajamas that they we\n",
        " which is held every year by the women ' s h 0 nor societies , Mortar Board and\n",
        "eties , Mortar Board and Tower G u a l ' d . They tap new bers for the coming y\n",
        "ast night . June ll - Diary dear , you ' re going to be neglected _ -- commence\n",
        "ing canoeing , and dancing , and I can ' t make up 17 my mind whether I want to\n",
        " I want to see summer , even though it ' s vacation . I ' ll be anxiously looki\n",
        "mmer , even though it ' s vacation . I ' ll be anxiously looking forward to Sep\n",
        " again . 18 So over and over again you ' ve told the family purse holder and hi\n",
        "ly purse holder and hind - you that it ' s an education you crave from Michigan\n",
        " \" in . LOGIC : The major premise : it ' s not what you know but whom you know \n",
        "know the right people . To do that you ' ve got to look worth knowing , so your\n",
        " ability ( you know what we mean ); it ' s up to you . To ' get started upward \n",
        " what we mean ); it ' s up to you . To ' get started upward in your four colleg\n",
        " should know the essential dos and don ' ts of college dress and etiquette ; yo\n",
        "or a velvet charmer whose derriere isn ' t luminous . Visiting the library and \n",
        " cotton shirt , and saddles . Or if it ' s sweltering hot ( first weeks always \n",
        "ot ( first weeks always fool us ), you ' ll be able to wear summer duds , perha\n",
        " memorize a few Home Ec principles . F ' rinstance : 1 . A slip straggling unde\n",
        " error , and even Gertrude Steins aren ' t excused therefore . So , if your ski\n",
        "pondingly short . 2 . Full skirts aren ' t as subject to sit - itis as straight\n",
        "ses , etc ., but the ironing board won ' t be your chief love at college . 3 . \n",
        " chief love at college . 3 . We wouldn ' t dare suggest that you clean your sad\n",
        "nd other species of flatties till they ' re actually white , but we do hint at \n",
        ". Clean , press , and repair last fall ' s clothes ; it ' s not at all necessar\n",
        " and repair last fall ' s clothes ; it ' s not at all necessary to get new clot\n",
        "thes for college . The dress that hasn ' t worn out after four years in Senior \n",
        "klin Field and exude pride for Bachman ' s boys . For home games we cheer in ca\n",
        "lly have regulation suits , so you won ' t have to worry on this score . MODERN\n",
        "o help the good impression we know you ' ll make : If you don ' t smoke , don '\n",
        "ion we know you ' ll make : If you don ' t smoke , don ' t refuse cigarettes wi\n",
        "' ll make : If you don ' t smoke , don ' t refuse cigarettes with a holier - th\n",
        "you , no \" serves better . Second , it ' s an invaluable asset if you can carry\n",
        " examination and chit - chat , but don ' t do all the carrying , listen too . A\n",
        " new men . . . powdering your roommate ' s back ... borrowing a out hat or wide\n",
        "nter term . For the gala occasions you ' ll be your most fem - inine and appeal\n",
        "de , taffeta or silk jersey ... If you ' re the talliangorous type , play up yo\n",
        " the men . But college social life isn ' t all glamorous J - Hops and Senior Ba\n",
        "s , Soph Proms and Frosh Frolics ; you ' ll find that your movie or dancing dat\n",
        "be your choice for these dates . If it ' s a day - time date where you see how \n",
        "ong you can dawdle over one coke , you ' ll wear the usual skirt and sweater bi\n",
        "e description is a \" must \",- that you ' ll never be sorry for pair on pair of \n",
        "f vivid anklets --- but by now you don ' t need this pony . For by now you ' ve\n",
        "on ' t need this pony . For by now you ' ve figured out the essence of college \n",
        "red out the essence of college clothes ' smartness : dress simply , suit the oc\n",
        "s simply , suit the occasion , and don ' t dress beyond your means . The girl w\n",
        "l who blows in with twelve trunks ; it ' s just a matter of selection . 25 If y\n",
        "just a matter of selection . 25 If you ' re interested in sports , you ' ll fin\n",
        "If you ' re interested in sports , you ' ll find that W . A . \" A ., the Women \n",
        " ll find that W . A . \" A ., the Women ' s Athletic Association , will give you\n",
        "ublications at M . S . C ., and if you ' re interested in writing or photograph\n",
        "so there is S . W . L ., Spartan Women ' s League , an all - campus organizatio\n",
        " interests , and social contacts . Don ' t worry about these before hand , you \n",
        " t worry about these before hand , you ' ll hear worlds about them at the Co - \n",
        "charge of the card catalogue and women ' s activity calendar . ARTICLE IV ORGAN\n",
        " calendar . ARTICLE IV ORGANIZATION OF ' A . W . S . COUNCIL Section 1 . Member\n",
        " of Palenic , President of Spartan men ' s League , President of Y . W . C . A \n",
        "ers of the Associated W 0 men Students ' Council shall be made by the preceding\n",
        "d shall read their reports of the year ' s work . The reports of other cers sha\n",
        "viduals wishing cooperation from women ' s ganizations . Section 2 . The duties\n",
        "rmitories , A . W . S . office , women ' s gymnasium and other women ' s buildi\n",
        " , women ' s gymnasium and other women ' s buildings ten days before the appoin\n",
        "tion . 36 1 . Organization : a . Women ' s houses shall have a House Council an\n",
        "ours : 1 . Mid - week hours : 9 : 45 o ' clock sion until Friday of Fre ::: hma\n",
        " place of employment . The Houesmother ' s permission must be obtained in advan\n",
        "econd time to one student . 4 . Guests ' visiting hours in dormitories and hous\n",
        "all not go to fraternity houses or men ' s rooms where an proved chaperon is no\n",
        " meet with the approval of the student ' s family and that hours are within A .\n",
        "t of A . W . S ., or the Dean of Women ' s Office . Freshmen must have in addit\n"
       ]
      }
     ],
     "prompt_number": 13
    },
    {
     "cell_type": "code",
     "collapsed": false,
     "input": [
      "len(set(corpus))"
     ],
     "language": "python",
     "metadata": {},
     "outputs": [
      {
       "metadata": {},
       "output_type": "pyout",
       "prompt_number": 14,
       "text": [
        "2425"
       ]
      }
     ],
     "prompt_number": 14
    },
    {
     "cell_type": "code",
     "collapsed": false,
     "input": [
      "len(corpus)"
     ],
     "language": "python",
     "metadata": {},
     "outputs": [
      {
       "metadata": {},
       "output_type": "pyout",
       "prompt_number": 15,
       "text": [
        "17955"
       ]
      }
     ],
     "prompt_number": 15
    },
    {
     "cell_type": "code",
     "collapsed": false,
     "input": [
      "corpus.common_contexts(['general'])"
     ],
     "language": "python",
     "metadata": {},
     "outputs": [
      {
       "output_type": "stream",
       "stream": "stdout",
       "text": [
        "and_est s_council have_supervision the_duties\n"
       ]
      }
     ],
     "prompt_number": 6
    },
    {
     "cell_type": "code",
     "collapsed": false,
     "input": [
      "from nltk.corpus import stopwords\n",
      "stopwords = stopwords.words(\u2018english\u2019)"
     ],
     "language": "python",
     "metadata": {},
     "outputs": [
      {
       "ename": "SyntaxError",
       "evalue": "invalid syntax (<ipython-input-21-644530baa6c1>, line 2)",
       "output_type": "pyerr",
       "traceback": [
        "\u001b[0;36m  File \u001b[0;32m\"<ipython-input-21-644530baa6c1>\"\u001b[0;36m, line \u001b[0;32m2\u001b[0m\n\u001b[0;31m    stopwords = stopwords.words(\u2018english\u2019)\u001b[0m\n\u001b[0m                                ^\u001b[0m\n\u001b[0;31mSyntaxError\u001b[0m\u001b[0;31m:\u001b[0m invalid syntax\n"
       ]
      }
     ],
     "prompt_number": 21
    },
    {
     "cell_type": "code",
     "collapsed": false,
     "input": [
      "corpus.dispersion_plot([\"women\",\"girls\",\"fire\"])"
     ],
     "language": "python",
     "metadata": {},
     "outputs": [
      {
       "metadata": {},
       "output_type": "display_data",
       "png": "[encoded data removed]",
       "text": [
        "<matplotlib.figure.Figure at 0x1044a2150>"
       ]
      }
     ],
     "prompt_number": 7
    },
    {
     "cell_type": "code",
     "collapsed": false,
     "input": [
      "import mpld3"
     ],
     "language": "python",
     "metadata": {},
     "outputs": [],
     "prompt_number": 8
    },
    {
     "cell_type": "code",
     "collapsed": false,
     "input": [
      "mpld3.enable_notebook()"
     ],
     "language": "python",
     "metadata": {},
     "outputs": [],
     "prompt_number": 9
    },
    {
     "cell_type": "code",
     "collapsed": false,
     "input": [
      "corpus.dispersion_plot([\"women\",\"girls\",\"fire\"], )"
     ],
     "language": "python",
     "metadata": {},
     "outputs": [
      {
       "ename": "TypeError",
       "evalue": "dispersion_plot() got an unexpected keyword argument 'width'",
       "output_type": "pyerr",
       "traceback": [
        "\u001b[0;31m---------------------------------------------------------------------------\u001b[0m\n\u001b[0;31mTypeError\u001b[0m                                 Traceback (most recent call last)",
        "\u001b[0;32m<ipython-input-11-e36670c73b44>\u001b[0m in \u001b[0;36m<module>\u001b[0;34m()\u001b[0m\n\u001b[0;32m----> 1\u001b[0;31m \u001b[0mcorpus\u001b[0m\u001b[0;34m.\u001b[0m\u001b[0mdispersion_plot\u001b[0m\u001b[0;34m(\u001b[0m\u001b[0;34m[\u001b[0m\u001b[0;34m\"women\"\u001b[0m\u001b[0;34m,\u001b[0m\u001b[0;34m\"girls\"\u001b[0m\u001b[0;34m,\u001b[0m\u001b[0;34m\"fire\"\u001b[0m\u001b[0;34m]\u001b[0m\u001b[0;34m,\u001b[0m \u001b[0mwidth\u001b[0m\u001b[0;34m=\u001b[0m\u001b[0;36m1200\u001b[0m\u001b[0;34m)\u001b[0m\u001b[0;34m\u001b[0m\u001b[0m\n\u001b[0m",
        "\u001b[0;31mTypeError\u001b[0m: dispersion_plot() got an unexpected keyword argument 'width'"
       ]
      }
     ],
     "prompt_number": 11
    },
    {
     "cell_type": "code",
     "collapsed": false,
     "input": [
      "len(corpus)"
     ],
     "language": "python",
     "metadata": {},
     "outputs": [
      {
       "metadata": {},
       "output_type": "pyout",
       "prompt_number": 25,
       "text": [
        "17955"
       ]
      }
     ],
     "prompt_number": 25
    },
    {
     "cell_type": "code",
     "collapsed": false,
     "input": [
      "len(set(corpus)) / len(corpus)"
     ],
     "language": "python",
     "metadata": {},
     "outputs": [
      {
       "metadata": {},
       "output_type": "pyout",
       "prompt_number": 24,
       "text": [
        "0"
       ]
      }
     ],
     "prompt_number": 24
    },
    {
     "cell_type": "code",
     "collapsed": false,
     "input": [
      "corpus[0:100]"
     ],
     "language": "python",
     "metadata": {},
     "outputs": [
      {
       "metadata": {},
       "output_type": "pyout",
       "prompt_number": 26,
       "text": [
        "[u'1937',\n",
        " u'-',\n",
        " u'1938',\n",
        " u'Associated',\n",
        " u'Women',\n",
        " u'Students',\n",
        " u'MICHIGAN',\n",
        " u'STATE',\n",
        " u'COLLEGE',\n",
        " u'A',\n",
        " u'.',\n",
        " u'W',\n",
        " u'.',\n",
        " u'S',\n",
        " u'.',\n",
        " u'\\xab\\xbb',\n",
        " u'REGULATIONS',\n",
        " u'FOR',\n",
        " u'WOMEN',\n",
        " u'\\xb7',\n",
        " u'STUDENTS',\n",
        " u'AT',\n",
        " u'MICHIGAN',\n",
        " u'STATE',\n",
        " u'COLLEGE',\n",
        " u'\\xab\\xbb',\n",
        " u'1937',\n",
        " u'-',\n",
        " u'1938',\n",
        " u'Published',\n",
        " u'by',\n",
        " u'A',\n",
        " u'.',\n",
        " u'W',\n",
        " u'.',\n",
        " u'S',\n",
        " u'.',\n",
        " u'To',\n",
        " u'the',\n",
        " u'women',\n",
        " u'of',\n",
        " u'the',\n",
        " u'Class',\n",
        " u'oj',\n",
        " u'1941',\n",
        " u'this',\n",
        " u'handbook',\n",
        " u'is',\n",
        " u\"'\",\n",
        " u'dedicated',\n",
        " u'by',\n",
        " u'the',\n",
        " u'Associated',\n",
        " u'Women',\n",
        " u'Students',\n",
        " u'of',\n",
        " u'the',\n",
        " u'College',\n",
        " u'in',\n",
        " u'the',\n",
        " u'Spirit',\n",
        " u'of',\n",
        " u'gan',\n",
        " u'State',\n",
        " u'fellowship',\n",
        " u'.',\n",
        " u'CODE',\n",
        " u'We',\n",
        " u',',\n",
        " u'the',\n",
        " u'women',\n",
        " u'students',\n",
        " u'of',\n",
        " u'Michigan',\n",
        " u'State',\n",
        " u'College',\n",
        " u',',\n",
        " u'have',\n",
        " u'organized',\n",
        " u'ourselves',\n",
        " u'into',\n",
        " u'an',\n",
        " u'association',\n",
        " u'and',\n",
        " u'have',\n",
        " u'voted',\n",
        " u'upon',\n",
        " u'regulations',\n",
        " u'which',\n",
        " u'we',\n",
        " u'agree',\n",
        " u'shall',\n",
        " u'be',\n",
        " u'ministered',\n",
        " u',',\n",
        " u'with',\n",
        " u'the',\n",
        " u'cooperation',\n",
        " u'and',\n",
        " u'proval']"
       ]
      }
     ],
     "prompt_number": 26
    },
    {
     "cell_type": "code",
     "collapsed": false,
     "input": [
      "fdist1 = nltk.FreqDist(corpus)"
     ],
     "language": "python",
     "metadata": {},
     "outputs": [],
     "prompt_number": 28
    },
    {
     "cell_type": "code",
     "collapsed": false,
     "input": [
      "fdist1.most_common(50)"
     ],
     "language": "python",
     "metadata": {},
     "outputs": [
      {
       "metadata": {},
       "output_type": "pyout",
       "prompt_number": 30,
       "text": [
        "[(u'.', 1681),\n",
        " (u'the', 693),\n",
        " (u'of', 676),\n",
        " (u',', 530),\n",
        " (u'and', 403),\n",
        " (u'to', 292),\n",
        " (u'shall', 243),\n",
        " (u'be', 225),\n",
        " (u'a', 223),\n",
        " (u'-', 200),\n",
        " (u'A', 195),\n",
        " (u'in', 193),\n",
        " (u'for', 183),\n",
        " (u':', 178),\n",
        " (u\"'\", 152),\n",
        " (u'W', 138),\n",
        " (u'you', 123),\n",
        " (u'The', 121),\n",
        " (u'S', 115),\n",
        " (u'President', 111),\n",
        " (u'Board', 97),\n",
        " (u'at', 94),\n",
        " (u'or', 92),\n",
        " (u'all', 88),\n",
        " (u'by', 85),\n",
        " (u'have', 82),\n",
        " (u'on', 77),\n",
        " (u'are', 77),\n",
        " (u'term', 75),\n",
        " (u'with', 74),\n",
        " (u'is', 73),\n",
        " (u's', 73),\n",
        " (u'Council', 73),\n",
        " (u'Women', 72),\n",
        " (u'this', 70),\n",
        " (u'Judiciary', 65),\n",
        " (u'1', 64),\n",
        " (u'as', 64),\n",
        " (u'one', 62),\n",
        " (u'from', 61),\n",
        " (u'must', 60),\n",
        " (u'your', 59),\n",
        " (u'will', 57),\n",
        " (u'that', 56),\n",
        " (u'hours', 56),\n",
        " (u'women', 56),\n",
        " (u'\"', 55),\n",
        " (u'I', 52),\n",
        " (u'2', 51),\n",
        " (u'week', 51)]"
       ]
      }
     ],
     "prompt_number": 30
    },
    {
     "cell_type": "code",
     "collapsed": false,
     "input": [
      " fdist1.plot(50, cumulative=True)"
     ],
     "language": "python",
     "metadata": {},
     "outputs": [
      {
       "html": [
        "\n",
        "\n",
        "<style>\n",
        "\n",
        "</style>\n",
        "\n",
        "<div id=\"fig_el3263044623444007735600755\"></div>\n",
        "<script>\n",
        "function mpld3_load_lib(url, callback){\n",
        "  var s = document.createElement('script');\n",
        "  s.src = url;\n",
        "  s.async = true;\n",
        "  s.onreadystatechange = s.onload = callback;\n",
        "  s.onerror = function(){console.warn(\"failed to load library \" + url);};\n",
        "  document.getElementsByTagName(\"head\")[0].appendChild(s);\n",
        "}\n",
        "\n",
        "if(typeof(mpld3) !== \"undefined\" && mpld3._mpld3IsLoaded){\n",
        "   // already loaded: just create the figure\n",
        "   !function(mpld3){\n",
        "       \n",
        "       mpld3.draw_figure(\"fig_el3263044623444007735600755\", {\"axes\": [{\"xlim\": [0.0, 50.0], \"yscale\": \"linear\", \"axesbg\": \"#FFFFFF\", \"texts\": [{\"v_baseline\": \"hanging\", \"h_anchor\": \"middle\", \"color\": \"#000000\", \"text\": \"Samples\", \"coordinates\": \"axes\", \"zorder\": 3, \"alpha\": 1, \"fontsize\": 10.0, \"position\": [0.5, -0.24489667338709675], \"rotation\": -0.0, \"id\": \"el326304463338064\"}, {\"v_baseline\": \"auto\", \"h_anchor\": \"middle\", \"color\": \"#000000\", \"text\": \"Cumulative Counts\", \"coordinates\": \"axes\", \"zorder\": 3, \"alpha\": 1, \"fontsize\": 10.0, \"position\": [-0.099798387096774216, 0.5], \"rotation\": -90.0, \"id\": \"el326304463339920\"}], \"zoomable\": true, \"images\": [], \"xdomain\": [0.0, 50.0], \"ylim\": [1000.0, 9000.0], \"paths\": [], \"sharey\": [], \"sharex\": [], \"axesbgalpha\": null, \"axes\": [{\"scale\": \"linear\", \"tickformat\": [\".\", \"the\", \"of\", \",\", \"and\", \"to\", \"shall\", \"be\", \"a\", \"-\", \"A\", \"in\", \"for\", \":\", \"'\", \"W\", \"you\", \"The\", \"S\", \"President\", \"Board\", \"at\", \"or\", \"all\", \"by\", \"have\", \"on\", \"are\", \"term\", \"with\", \"is\", \"s\", \"Council\", \"Women\", \"this\", \"Judiciary\", \"1\", \"as\", \"one\", \"from\", \"must\", \"your\", \"will\", \"that\", \"hours\", \"women\", \"\\\"\", \"I\", \"2\", \"week\"], \"grid\": {\"color\": \"#C0C0C0\", \"alpha\": 1.0, \"dasharray\": \"2,2\", \"gridOn\": true}, \"fontsize\": 10.0, \"position\": \"bottom\", \"nticks\": 50, \"tickvalues\": [0, 1, 2, 3, 4, 5, 6, 7, 8, 9, 10, 11, 12, 13, 14, 15, 16, 17, 18, 19, 20, 21, 22, 23, 24, 25, 26, 27, 28, 29, 30, 31, 32, 33, 34, 35, 36, 37, 38, 39, 40, 41, 42, 43, 44, 45, 46, 47, 48, 49]}, {\"scale\": \"linear\", \"tickformat\": null, \"grid\": {\"color\": \"#C0C0C0\", \"alpha\": 1.0, \"dasharray\": \"2,2\", \"gridOn\": true}, \"fontsize\": 10.0, \"position\": \"left\", \"nticks\": 9, \"tickvalues\": null}], \"lines\": [{\"color\": \"#0000FF\", \"yindex\": 1, \"coordinates\": \"data\", \"dasharray\": \"none\", \"zorder\": 2, \"alpha\": 1, \"xindex\": 0, \"linewidth\": 2, \"data\": \"data01\", \"id\": \"el326304463837520\"}], \"markers\": [], \"id\": \"el326304462346192\", \"ydomain\": [1000.0, 9000.0], \"collections\": [], \"xscale\": \"linear\", \"bbox\": [0.125, 0.125, 0.77500000000000002, 0.77500000000000002]}], \"height\": 320.0, \"width\": 480.0, \"plugins\": [{\"type\": \"reset\"}, {\"enabled\": false, \"button\": true, \"type\": \"zoom\"}, {\"enabled\": false, \"button\": true, \"type\": \"boxzoom\"}], \"data\": {\"data01\": [[0.0, 1681.0], [1.0, 2374.0], [2.0, 3050.0], [3.0, 3580.0], [4.0, 3983.0], [5.0, 4275.0], [6.0, 4518.0], [7.0, 4743.0], [8.0, 4966.0], [9.0, 5166.0], [10.0, 5361.0], [11.0, 5554.0], [12.0, 5737.0], [13.0, 5915.0], [14.0, 6067.0], [15.0, 6205.0], [16.0, 6328.0], [17.0, 6449.0], [18.0, 6564.0], [19.0, 6675.0], [20.0, 6772.0], [21.0, 6866.0], [22.0, 6958.0], [23.0, 7046.0], [24.0, 7131.0], [25.0, 7213.0], [26.0, 7290.0], [27.0, 7367.0], [28.0, 7442.0], [29.0, 7516.0], [30.0, 7589.0], [31.0, 7662.0], [32.0, 7735.0], [33.0, 7807.0], [34.0, 7877.0], [35.0, 7942.0], [36.0, 8006.0], [37.0, 8070.0], [38.0, 8132.0], [39.0, 8193.0], [40.0, 8253.0], [41.0, 8312.0], [42.0, 8369.0], [43.0, 8425.0], [44.0, 8481.0], [45.0, 8537.0], [46.0, 8592.0], [47.0, 8644.0], [48.0, 8695.0], [49.0, 8746.0]]}, \"id\": \"el326304462344400\"});\n",
        "   }(mpld3);\n",
        "}else if(typeof define === \"function\" && define.amd){\n",
        "   // require.js is available: use it to load d3/mpld3\n",
        "   require.config({paths: {d3: \"https://mpld3.github.io/js/d3.v3.min\"}});\n",
        "   require([\"d3\"], function(d3){\n",
        "      window.d3 = d3;\n",
        "      mpld3_load_lib(\"https://mpld3.github.io/js/mpld3.v0.3git.js\", function(){\n",
        "         \n",
        "         mpld3.draw_figure(\"fig_el3263044623444007735600755\", {\"axes\": [{\"xlim\": [0.0, 50.0], \"yscale\": \"linear\", \"axesbg\": \"#FFFFFF\", \"texts\": [{\"v_baseline\": \"hanging\", \"h_anchor\": \"middle\", \"color\": \"#000000\", \"text\": \"Samples\", \"coordinates\": \"axes\", \"zorder\": 3, \"alpha\": 1, \"fontsize\": 10.0, \"position\": [0.5, -0.24489667338709675], \"rotation\": -0.0, \"id\": \"el326304463338064\"}, {\"v_baseline\": \"auto\", \"h_anchor\": \"middle\", \"color\": \"#000000\", \"text\": \"Cumulative Counts\", \"coordinates\": \"axes\", \"zorder\": 3, \"alpha\": 1, \"fontsize\": 10.0, \"position\": [-0.099798387096774216, 0.5], \"rotation\": -90.0, \"id\": \"el326304463339920\"}], \"zoomable\": true, \"images\": [], \"xdomain\": [0.0, 50.0], \"ylim\": [1000.0, 9000.0], \"paths\": [], \"sharey\": [], \"sharex\": [], \"axesbgalpha\": null, \"axes\": [{\"scale\": \"linear\", \"tickformat\": [\".\", \"the\", \"of\", \",\", \"and\", \"to\", \"shall\", \"be\", \"a\", \"-\", \"A\", \"in\", \"for\", \":\", \"'\", \"W\", \"you\", \"The\", \"S\", \"President\", \"Board\", \"at\", \"or\", \"all\", \"by\", \"have\", \"on\", \"are\", \"term\", \"with\", \"is\", \"s\", \"Council\", \"Women\", \"this\", \"Judiciary\", \"1\", \"as\", \"one\", \"from\", \"must\", \"your\", \"will\", \"that\", \"hours\", \"women\", \"\\\"\", \"I\", \"2\", \"week\"], \"grid\": {\"color\": \"#C0C0C0\", \"alpha\": 1.0, \"dasharray\": \"2,2\", \"gridOn\": true}, \"fontsize\": 10.0, \"position\": \"bottom\", \"nticks\": 50, \"tickvalues\": [0, 1, 2, 3, 4, 5, 6, 7, 8, 9, 10, 11, 12, 13, 14, 15, 16, 17, 18, 19, 20, 21, 22, 23, 24, 25, 26, 27, 28, 29, 30, 31, 32, 33, 34, 35, 36, 37, 38, 39, 40, 41, 42, 43, 44, 45, 46, 47, 48, 49]}, {\"scale\": \"linear\", \"tickformat\": null, \"grid\": {\"color\": \"#C0C0C0\", \"alpha\": 1.0, \"dasharray\": \"2,2\", \"gridOn\": true}, \"fontsize\": 10.0, \"position\": \"left\", \"nticks\": 9, \"tickvalues\": null}], \"lines\": [{\"color\": \"#0000FF\", \"yindex\": 1, \"coordinates\": \"data\", \"dasharray\": \"none\", \"zorder\": 2, \"alpha\": 1, \"xindex\": 0, \"linewidth\": 2, \"data\": \"data01\", \"id\": \"el326304463837520\"}], \"markers\": [], \"id\": \"el326304462346192\", \"ydomain\": [1000.0, 9000.0], \"collections\": [], \"xscale\": \"linear\", \"bbox\": [0.125, 0.125, 0.77500000000000002, 0.77500000000000002]}], \"height\": 320.0, \"width\": 480.0, \"plugins\": [{\"type\": \"reset\"}, {\"enabled\": false, \"button\": true, \"type\": \"zoom\"}, {\"enabled\": false, \"button\": true, \"type\": \"boxzoom\"}], \"data\": {\"data01\": [[0.0, 1681.0], [1.0, 2374.0], [2.0, 3050.0], [3.0, 3580.0], [4.0, 3983.0], [5.0, 4275.0], [6.0, 4518.0], [7.0, 4743.0], [8.0, 4966.0], [9.0, 5166.0], [10.0, 5361.0], [11.0, 5554.0], [12.0, 5737.0], [13.0, 5915.0], [14.0, 6067.0], [15.0, 6205.0], [16.0, 6328.0], [17.0, 6449.0], [18.0, 6564.0], [19.0, 6675.0], [20.0, 6772.0], [21.0, 6866.0], [22.0, 6958.0], [23.0, 7046.0], [24.0, 7131.0], [25.0, 7213.0], [26.0, 7290.0], [27.0, 7367.0], [28.0, 7442.0], [29.0, 7516.0], [30.0, 7589.0], [31.0, 7662.0], [32.0, 7735.0], [33.0, 7807.0], [34.0, 7877.0], [35.0, 7942.0], [36.0, 8006.0], [37.0, 8070.0], [38.0, 8132.0], [39.0, 8193.0], [40.0, 8253.0], [41.0, 8312.0], [42.0, 8369.0], [43.0, 8425.0], [44.0, 8481.0], [45.0, 8537.0], [46.0, 8592.0], [47.0, 8644.0], [48.0, 8695.0], [49.0, 8746.0]]}, \"id\": \"el326304462344400\"});\n",
        "      });\n",
        "    });\n",
        "}else{\n",
        "    // require.js not available: dynamically load d3 & mpld3\n",
        "    mpld3_load_lib(\"https://mpld3.github.io/js/d3.v3.min.js\", function(){\n",
        "         mpld3_load_lib(\"https://mpld3.github.io/js/mpld3.v0.3git.js\", function(){\n",
        "                 \n",
        "                 mpld3.draw_figure(\"fig_el3263044623444007735600755\", {\"axes\": [{\"xlim\": [0.0, 50.0], \"yscale\": \"linear\", \"axesbg\": \"#FFFFFF\", \"texts\": [{\"v_baseline\": \"hanging\", \"h_anchor\": \"middle\", \"color\": \"#000000\", \"text\": \"Samples\", \"coordinates\": \"axes\", \"zorder\": 3, \"alpha\": 1, \"fontsize\": 10.0, \"position\": [0.5, -0.24489667338709675], \"rotation\": -0.0, \"id\": \"el326304463338064\"}, {\"v_baseline\": \"auto\", \"h_anchor\": \"middle\", \"color\": \"#000000\", \"text\": \"Cumulative Counts\", \"coordinates\": \"axes\", \"zorder\": 3, \"alpha\": 1, \"fontsize\": 10.0, \"position\": [-0.099798387096774216, 0.5], \"rotation\": -90.0, \"id\": \"el326304463339920\"}], \"zoomable\": true, \"images\": [], \"xdomain\": [0.0, 50.0], \"ylim\": [1000.0, 9000.0], \"paths\": [], \"sharey\": [], \"sharex\": [], \"axesbgalpha\": null, \"axes\": [{\"scale\": \"linear\", \"tickformat\": [\".\", \"the\", \"of\", \",\", \"and\", \"to\", \"shall\", \"be\", \"a\", \"-\", \"A\", \"in\", \"for\", \":\", \"'\", \"W\", \"you\", \"The\", \"S\", \"President\", \"Board\", \"at\", \"or\", \"all\", \"by\", \"have\", \"on\", \"are\", \"term\", \"with\", \"is\", \"s\", \"Council\", \"Women\", \"this\", \"Judiciary\", \"1\", \"as\", \"one\", \"from\", \"must\", \"your\", \"will\", \"that\", \"hours\", \"women\", \"\\\"\", \"I\", \"2\", \"week\"], \"grid\": {\"color\": \"#C0C0C0\", \"alpha\": 1.0, \"dasharray\": \"2,2\", \"gridOn\": true}, \"fontsize\": 10.0, \"position\": \"bottom\", \"nticks\": 50, \"tickvalues\": [0, 1, 2, 3, 4, 5, 6, 7, 8, 9, 10, 11, 12, 13, 14, 15, 16, 17, 18, 19, 20, 21, 22, 23, 24, 25, 26, 27, 28, 29, 30, 31, 32, 33, 34, 35, 36, 37, 38, 39, 40, 41, 42, 43, 44, 45, 46, 47, 48, 49]}, {\"scale\": \"linear\", \"tickformat\": null, \"grid\": {\"color\": \"#C0C0C0\", \"alpha\": 1.0, \"dasharray\": \"2,2\", \"gridOn\": true}, \"fontsize\": 10.0, \"position\": \"left\", \"nticks\": 9, \"tickvalues\": null}], \"lines\": [{\"color\": \"#0000FF\", \"yindex\": 1, \"coordinates\": \"data\", \"dasharray\": \"none\", \"zorder\": 2, \"alpha\": 1, \"xindex\": 0, \"linewidth\": 2, \"data\": \"data01\", \"id\": \"el326304463837520\"}], \"markers\": [], \"id\": \"el326304462346192\", \"ydomain\": [1000.0, 9000.0], \"collections\": [], \"xscale\": \"linear\", \"bbox\": [0.125, 0.125, 0.77500000000000002, 0.77500000000000002]}], \"height\": 320.0, \"width\": 480.0, \"plugins\": [{\"type\": \"reset\"}, {\"enabled\": false, \"button\": true, \"type\": \"zoom\"}, {\"enabled\": false, \"button\": true, \"type\": \"boxzoom\"}], \"data\": {\"data01\": [[0.0, 1681.0], [1.0, 2374.0], [2.0, 3050.0], [3.0, 3580.0], [4.0, 3983.0], [5.0, 4275.0], [6.0, 4518.0], [7.0, 4743.0], [8.0, 4966.0], [9.0, 5166.0], [10.0, 5361.0], [11.0, 5554.0], [12.0, 5737.0], [13.0, 5915.0], [14.0, 6067.0], [15.0, 6205.0], [16.0, 6328.0], [17.0, 6449.0], [18.0, 6564.0], [19.0, 6675.0], [20.0, 6772.0], [21.0, 6866.0], [22.0, 6958.0], [23.0, 7046.0], [24.0, 7131.0], [25.0, 7213.0], [26.0, 7290.0], [27.0, 7367.0], [28.0, 7442.0], [29.0, 7516.0], [30.0, 7589.0], [31.0, 7662.0], [32.0, 7735.0], [33.0, 7807.0], [34.0, 7877.0], [35.0, 7942.0], [36.0, 8006.0], [37.0, 8070.0], [38.0, 8132.0], [39.0, 8193.0], [40.0, 8253.0], [41.0, 8312.0], [42.0, 8369.0], [43.0, 8425.0], [44.0, 8481.0], [45.0, 8537.0], [46.0, 8592.0], [47.0, 8644.0], [48.0, 8695.0], [49.0, 8746.0]]}, \"id\": \"el326304462344400\"});\n",
        "            })\n",
        "         });\n",
        "}\n",
        "</script>"
       ],
       "metadata": {},
       "output_type": "display_data",
       "png": "[encoded data removed]",
       "text": [
        "<matplotlib.figure.Figure at 0x109f9f8d0>"
       ]
      }
     ],
     "prompt_number": 31
    },
    {
     "cell_type": "code",
     "collapsed": false,
     "input": [
      "corpus[w.upper() for w in corpus]"
     ],
     "language": "python",
     "metadata": {},
     "outputs": []
    }
   ],
   "metadata": {}
  }
 ]
}